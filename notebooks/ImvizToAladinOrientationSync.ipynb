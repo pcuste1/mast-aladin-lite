{
 "cells": [
  {
   "cell_type": "code",
   "execution_count": 2,
   "id": "3970c041-1012-4a0d-8313-f7480cda8cd6",
   "metadata": {},
   "outputs": [],
   "source": [
    "from mast_aladin_lite.app import MastAladin\n",
    "from jdaviz import Imviz\n",
    "import warnings"
   ]
  },
  {
   "cell_type": "code",
   "execution_count": 3,
   "id": "777b67f1-89e9-4730-af1a-45123f6bd7eb",
   "metadata": {},
   "outputs": [
    {
     "name": "stdout",
     "output_type": "stream",
     "text": [
      "INFO: Found cached file jw02727-o002_t062_nircam_clear-f090w_i2d.fits with expected size 715406400. [astroquery.query]\n",
      "INFO: Found cached file jw02727-o002_t062_nircam_clear-f277w_i2d.fits with expected size 144060480. [astroquery.query]\n"
     ]
    }
   ],
   "source": [
    "imviz = Imviz()\n",
    "viewer = imviz.default_viewer\n",
    "\n",
    "filenames = [\n",
    "    'jw02727-o002_t062_nircam_clear-f090w_i2d.fits',\n",
    "    # 'jw02727-o002_t062_nircam_clear-f150w_i2d.fits',\n",
    "    # 'jw02727-o002_t062_nircam_clear-f200w_i2d.fits',\n",
    "    'jw02727-o002_t062_nircam_clear-f277w_i2d.fits',\n",
    "    # 'jw02727-o002_t062_nircam_clear-f356w_i2d.fits',\n",
    "    # 'jw02727-o002_t062_nircam_clear-f444w_i2d.fits'\n",
    "]\n",
    "\n",
    "with warnings.catch_warnings(), imviz.batch_load():\n",
    "    warnings.simplefilter('ignore')\n",
    "    for fn in filenames:\n",
    "        uri = f\"mast:JWST/product/{fn}\"\n",
    "        imviz.load_data(uri, cache=True)"
   ]
  },
  {
   "cell_type": "code",
   "execution_count": 4,
   "id": "6da4ceb5-de48-4f4d-b731-005efaed6c53",
   "metadata": {},
   "outputs": [],
   "source": [
    "a = MastAladin(target=\"Cartwheel Galaxy\", fov=.05, height=500)"
   ]
  },
  {
   "cell_type": "code",
   "execution_count": 5,
   "id": "5f1061cd-e3bf-4a3f-9235-4da297e87f43",
   "metadata": {},
   "outputs": [
    {
     "data": {
      "application/vnd.jupyter.widget-view+json": {
       "model_id": "a279e6a3ec0e4bf1862b5eb7494665ca",
       "version_major": 2,
       "version_minor": 0
      },
      "text/plain": [
       "Application(config='imviz', docs_link='https://jdaviz.readthedocs.io/en/latest/imviz/index.html', events=['cal…"
      ]
     },
     "metadata": {},
     "output_type": "display_data"
    },
    {
     "data": {
      "application/vnd.jupyter.widget-view+json": {
       "model_id": "626cde98dc524ce682e57dc6dcf536e1",
       "version_major": 2,
       "version_minor": 1
      },
      "text/plain": [
       "MastAladin()"
      ]
     },
     "execution_count": 5,
     "metadata": {},
     "output_type": "execute_result"
    }
   ],
   "source": [
    "imviz.show()\n",
    "imviz.link_data(align_by='wcs')\n",
    "imviz.plugins['Orientation'].set_north_up_east_left()\n",
    "a"
   ]
  },
  {
   "cell_type": "code",
   "execution_count": 6,
   "id": "db01b21c-dbb3-4203-8711-df6041ef4d04",
   "metadata": {},
   "outputs": [],
   "source": [
    "a.set_imviz_orientation(viewer)"
   ]
  },
  {
   "cell_type": "code",
   "execution_count": 8,
   "id": "912bb531-7515-4e2d-ae03-7d012d4418b2",
   "metadata": {},
   "outputs": [],
   "source": [
    "a.set_orientation(viewer)"
   ]
  }
 ],
 "metadata": {
  "kernelspec": {
   "display_name": "Python 3 (ipykernel)",
   "language": "python",
   "name": "python3"
  },
  "language_info": {
   "codemirror_mode": {
    "name": "ipython",
    "version": 3
   },
   "file_extension": ".py",
   "mimetype": "text/x-python",
   "name": "python",
   "nbconvert_exporter": "python",
   "pygments_lexer": "ipython3",
   "version": "3.12.2"
  }
 },
 "nbformat": 4,
 "nbformat_minor": 5
}
