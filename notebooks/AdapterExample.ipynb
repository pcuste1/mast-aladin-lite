{
 "cells": [
  {
   "cell_type": "markdown",
   "id": "f723b85d-04fc-4d7c-8608-9633ba9cdba5",
   "metadata": {},
   "source": [
    "### Manager/Adapater Example \n",
    "This example notebook shows off the MastSyncManager and Adapter implementation and how the two concepts can be used to quickly link multiple viewers together and sync their views with the demo ViewSyncUI"
   ]
  },
  {
   "cell_type": "code",
   "execution_count": 11,
   "id": "77228131-7882-4c80-9c95-5d9fa66dd496",
   "metadata": {},
   "outputs": [],
   "source": [
    "from mast_aladin_lite.app import MastAladin\n",
    "from mast_aladin_lite.adapters import MastSyncManager, ImvizSyncAdapter, AladinSyncAdapter, ViewerSyncUI\n",
    "from jdaviz import Imviz\n",
    "import warnings\n",
    "from ipywidgets import Layout, Box, widgets"
   ]
  },
  {
   "cell_type": "markdown",
   "id": "0b978c5c-cf7c-4ca3-9bea-cce7b6183955",
   "metadata": {},
   "source": [
    "#### Initialize Viewers\n",
    "First, we need to initalize the viewers that we want to use. For this example, we are initializing an **Imviz** viewer and 2 **MastAladin** viewers"
   ]
  },
  {
   "cell_type": "code",
   "execution_count": 20,
   "id": "afc680d3-a762-49a7-a8dc-d49d4f8e3fe6",
   "metadata": {},
   "outputs": [
    {
     "name": "stderr",
     "output_type": "stream",
     "text": [
      "INFO:astroquery:Found cached file jw02727-o002_t062_nircam_clear-f090w_i2d.fits with expected size 626028480.\n",
      "INFO:astroquery:Found cached file jw02727-o002_t062_nircam_clear-f277w_i2d.fits with expected size 144066240.\n"
     ]
    },
    {
     "name": "stdout",
     "output_type": "stream",
     "text": [
      "INFO: Found cached file jw02727-o002_t062_nircam_clear-f090w_i2d.fits with expected size 626028480. [astroquery.query]\n",
      "INFO: Found cached file jw02727-o002_t062_nircam_clear-f277w_i2d.fits with expected size 144066240. [astroquery.query]\n"
     ]
    }
   ],
   "source": [
    "imviz = Imviz()\n",
    "imviz_viewer = imviz.default_viewer\n",
    "\n",
    "filenames = [\n",
    "    'jw02727-o002_t062_nircam_clear-f090w_i2d.fits',\n",
    "    # 'jw02727-o002_t062_nircam_clear-f150w_i2d.fits',\n",
    "    # 'jw02727-o002_t062_nircam_clear-f200w_i2d.fits',\n",
    "    'jw02727-o002_t062_nircam_clear-f277w_i2d.fits',\n",
    "    # 'jw02727-o002_t062_nircam_clear-f356w_i2d.fits',\n",
    "    # 'jw02727-o002_t062_nircam_clear-f444w_i2d.fits'\n",
    "]\n",
    "\n",
    "with warnings.catch_warnings(), imviz.batch_load():\n",
    "    warnings.simplefilter('ignore')\n",
    "    for fn in filenames:\n",
    "        uri = f\"mast:JWST/product/{fn}\"\n",
    "        imviz.load_data(uri, cache=True)"
   ]
  },
  {
   "cell_type": "code",
   "execution_count": 13,
   "id": "ea5d7a00-d7ba-45a1-8b07-4d9784d6aa37",
   "metadata": {},
   "outputs": [],
   "source": [
    "layout = Layout(width=\"100%\")\n",
    "aladin_viewer_a = MastAladin(target=\"Cartwheel Galaxy\", layout=layout, fov=.05, height=500)\n",
    "aladin_viewer_b = MastAladin(target=\"Cartwheel Galaxy\", layout=layout, survey=\"P/DSS2/red\", fov=.05, height=500)\n",
    "\n",
    "box_layout = Layout(\n",
    "    display=\"flex\", flex_flow=\"row\", align_items=\"stretch\", border=\"solid\", width=\"100%\"\n",
    ")\n",
    "box = Box(children=[aladin_viewer_a,aladin_viewer_b], layout=box_layout)"
   ]
  },
  {
   "cell_type": "markdown",
   "id": "e27f5218-92cd-413f-8be4-9793c0e8bc17",
   "metadata": {},
   "source": [
    "#### MastSyncManager \n",
    "Next, we initialize the MastSyncManager . This will be responsible for maintaing the state of registered viewers as well as orchestrating the syncing of viewers through the UI."
   ]
  },
  {
   "cell_type": "code",
   "execution_count": 14,
   "id": "3d605b48-94c9-426c-a088-f14c7d79b3a0",
   "metadata": {},
   "outputs": [],
   "source": [
    "manager = MastSyncManager()"
   ]
  },
  {
   "cell_type": "markdown",
   "id": "52ec6059-ec0f-4b9e-9794-49b3e8119afa",
   "metadata": {},
   "source": [
    "We then register each of the viewers we created earlier with the manager. Each viewer should have a unique identifier and use the appropriate **Adapter** based on the type of viewer that it is."
   ]
  },
  {
   "cell_type": "code",
   "execution_count": 15,
   "id": "6256bfdb-34c5-4bca-84d9-46730e246be2",
   "metadata": {},
   "outputs": [],
   "source": [
    "manager.register_viewer(\"imviz\", ImvizSyncAdapter(imviz_viewer))\n",
    "manager.register_viewer(\"aladin-a\", AladinSyncAdapter(aladin_viewer_a))\n",
    "manager.register_viewer(\"aladin-b\", AladinSyncAdapter(aladin_viewer_b))"
   ]
  },
  {
   "cell_type": "markdown",
   "id": "da588d3b-6f5a-4f43-8503-4c46359213ef",
   "metadata": {},
   "source": [
    "Finally, we create the **ViewerSyncUI** instance which takes the manager to display as an argument"
   ]
  },
  {
   "cell_type": "code",
   "execution_count": 16,
   "id": "e676fd08-5e02-4f54-8d1b-eb5c6fd72784",
   "metadata": {},
   "outputs": [],
   "source": [
    "ui = ViewerSyncUI(manager)"
   ]
  },
  {
   "cell_type": "markdown",
   "id": "d2a52ebb-f2d7-4a49-a566-231684e74fba",
   "metadata": {},
   "source": [
    "#### Demonstration\n",
    "Now, when you display the viewers, you can utilize the UI to sync the state of one viewer to all other configured viewers. Try it for yourself by running the code below and using the UI."
   ]
  },
  {
   "cell_type": "code",
   "execution_count": 21,
   "id": "edc4a986-a620-4d28-98b5-9781395974bb",
   "metadata": {},
   "outputs": [
    {
     "data": {
      "application/vnd.jupyter.widget-view+json": {
       "model_id": "917f6a3b3c0b482da13f276904f21dda",
       "version_major": 2,
       "version_minor": 0
      },
      "text/plain": [
       "Application(config='imviz', docs_link='https://jdaviz.readthedocs.io/en/latest/imviz/index.html', events=['cal…"
      ]
     },
     "metadata": {},
     "output_type": "display_data"
    },
    {
     "data": {
      "application/vnd.jupyter.widget-view+json": {
       "model_id": "3e9e64320d814ca8b3553b4fbbbf1322",
       "version_major": 2,
       "version_minor": 0
      },
      "text/plain": [
       "Box(children=(MastAladin(layout=Layout(width='100%')), MastAladin(layout=Layout(width='100%'), survey='P/DSS2/…"
      ]
     },
     "execution_count": 21,
     "metadata": {},
     "output_type": "execute_result"
    }
   ],
   "source": [
    "imviz.show()\n",
    "imviz.link_data(align_by='wcs')\n",
    "imviz.plugins['Orientation'].set_north_up_east_left()\n",
    "box"
   ]
  },
  {
   "cell_type": "code",
   "execution_count": null,
   "id": "e695c507-b4b1-41ad-b400-a6ce7378fa56",
   "metadata": {},
   "outputs": [],
   "source": []
  },
  {
   "cell_type": "code",
   "execution_count": 18,
   "id": "636d5035-552a-4b1f-aac0-496215d41adc",
   "metadata": {},
   "outputs": [
    {
     "data": {
      "application/vnd.jupyter.widget-view+json": {
       "model_id": "40813fca789449df80d08fb02131434a",
       "version_major": 2,
       "version_minor": 0
      },
      "text/plain": [
       "VBox(children=(Dropdown(description='Sync from:', layout=Layout(width='300px'), options=('imviz', 'aladin-a', …"
      ]
     },
     "metadata": {},
     "output_type": "display_data"
    }
   ],
   "source": [
    "ui.display()"
   ]
  },
  {
   "cell_type": "code",
   "execution_count": 12,
   "id": "eb66b601-6179-4b06-853c-a7779663fa03",
   "metadata": {},
   "outputs": [],
   "source": []
  },
  {
   "cell_type": "code",
   "execution_count": null,
   "id": "87d9a63b-b41b-43be-a82e-ba0b46aa56a9",
   "metadata": {},
   "outputs": [],
   "source": []
  }
 ],
 "metadata": {
  "kernelspec": {
   "display_name": "Python 3 (ipykernel)",
   "language": "python",
   "name": "python3"
  },
  "language_info": {
   "codemirror_mode": {
    "name": "ipython",
    "version": 3
   },
   "file_extension": ".py",
   "mimetype": "text/x-python",
   "name": "python",
   "nbconvert_exporter": "python",
   "pygments_lexer": "ipython3",
   "version": "3.12.2"
  }
 },
 "nbformat": 4,
 "nbformat_minor": 5
}
