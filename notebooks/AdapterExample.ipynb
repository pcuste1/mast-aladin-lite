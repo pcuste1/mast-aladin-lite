{
 "cells": [
  {
   "cell_type": "code",
   "execution_count": 1,
   "id": "77228131-7882-4c80-9c95-5d9fa66dd496",
   "metadata": {},
   "outputs": [],
   "source": [
    "from mast_aladin_lite.app import MastAladin\n",
    "from mast_aladin_lite.adapters import MastSyncManager, ImvizSyncAdapter, AladinSyncAdapter, ViewerSyncUI\n",
    "from jdaviz import Imviz\n",
    "import warnings\n",
    "from ipywidgets import Layout, Box, widgets"
   ]
  },
  {
   "cell_type": "code",
   "execution_count": 2,
   "id": "6e5e9cf5-fd47-4c44-9f8f-a16618e17e00",
   "metadata": {},
   "outputs": [],
   "source": [
    "manager = MastSyncManager()"
   ]
  },
  {
   "cell_type": "code",
   "execution_count": 3,
   "id": "afc680d3-a762-49a7-a8dc-d49d4f8e3fe6",
   "metadata": {},
   "outputs": [
    {
     "name": "stdout",
     "output_type": "stream",
     "text": [
      "INFO: Found cached file jw02727-o002_t062_nircam_clear-f090w_i2d.fits with expected size 715406400. [astroquery.query]\n",
      "INFO: Found cached file jw02727-o002_t062_nircam_clear-f277w_i2d.fits with expected size 144060480. [astroquery.query]\n"
     ]
    }
   ],
   "source": [
    "imviz = Imviz()\n",
    "viewer = imviz.default_viewer\n",
    "\n",
    "filenames = [\n",
    "    'jw02727-o002_t062_nircam_clear-f090w_i2d.fits',\n",
    "    # 'jw02727-o002_t062_nircam_clear-f150w_i2d.fits',\n",
    "    # 'jw02727-o002_t062_nircam_clear-f200w_i2d.fits',\n",
    "    'jw02727-o002_t062_nircam_clear-f277w_i2d.fits',\n",
    "    # 'jw02727-o002_t062_nircam_clear-f356w_i2d.fits',\n",
    "    # 'jw02727-o002_t062_nircam_clear-f444w_i2d.fits'\n",
    "]\n",
    "\n",
    "with warnings.catch_warnings(), imviz.batch_load():\n",
    "    warnings.simplefilter('ignore')\n",
    "    for fn in filenames:\n",
    "        uri = f\"mast:JWST/product/{fn}\"\n",
    "        imviz.load_data(uri, cache=True)\n",
    "manager.register_viewer(\"imviz\", ImvizSyncAdapter(viewer))"
   ]
  },
  {
   "cell_type": "code",
   "execution_count": 4,
   "id": "ea5d7a00-d7ba-45a1-8b07-4d9784d6aa37",
   "metadata": {},
   "outputs": [],
   "source": [
    "layout = Layout(width=\"100%\")\n",
    "a = MastAladin(target=\"Cartwheel Galaxy\", layout=layout, fov=.05, height=500)\n",
    "manager.register_viewer(\"aladin-a\", AladinSyncAdapter(a))\n",
    "\n",
    "b = MastAladin(target=\"Cartwheel Galaxy\", layout=layout, survey=\"P/DSS2/red\", fov=.05, height=500)\n",
    "\n",
    "box_layout = Layout(\n",
    "    display=\"flex\", flex_flow=\"row\", align_items=\"stretch\", border=\"solid\", width=\"100%\"\n",
    ")\n",
    "box = Box(children=[a,b], layout=box_layout)"
   ]
  },
  {
   "cell_type": "code",
   "execution_count": 5,
   "id": "3d605b48-94c9-426c-a088-f14c7d79b3a0",
   "metadata": {},
   "outputs": [],
   "source": [
    "manager.register_viewer(\"imviz\", ImvizSyncAdapter(viewer))\n",
    "manager.register_viewer(\"aladin-a\", AladinSyncAdapter(a))\n",
    "manager.register_viewer(\"aladin-b\", AladinSyncAdapter(b))"
   ]
  },
  {
   "cell_type": "code",
   "execution_count": 6,
   "id": "e676fd08-5e02-4f54-8d1b-eb5c6fd72784",
   "metadata": {},
   "outputs": [],
   "source": [
    "ui = ViewerSyncUI(manager)"
   ]
  },
  {
   "cell_type": "code",
   "execution_count": 7,
   "id": "edc4a986-a620-4d28-98b5-9781395974bb",
   "metadata": {},
   "outputs": [
    {
     "data": {
      "application/vnd.jupyter.widget-view+json": {
       "model_id": "b74acee1096741a099823700cc07d1c9",
       "version_major": 2,
       "version_minor": 0
      },
      "text/plain": [
       "Application(config='imviz', docs_link='https://jdaviz.readthedocs.io/en/latest/imviz/index.html', events=['cal…"
      ]
     },
     "metadata": {},
     "output_type": "display_data"
    },
    {
     "data": {
      "application/vnd.jupyter.widget-view+json": {
       "model_id": "063f9836da454de8aa8ef18f8a5eb17e",
       "version_major": 2,
       "version_minor": 0
      },
      "text/plain": [
       "Box(children=(MastAladin(layout=Layout(width='100%')), MastAladin(layout=Layout(width='100%'), survey='P/DSS2/…"
      ]
     },
     "execution_count": 7,
     "metadata": {},
     "output_type": "execute_result"
    }
   ],
   "source": [
    "imviz.show()\n",
    "imviz.link_data(align_by='wcs')\n",
    "imviz.plugins['Orientation'].set_north_up_east_left()\n",
    "box"
   ]
  },
  {
   "cell_type": "code",
   "execution_count": 8,
   "id": "636d5035-552a-4b1f-aac0-496215d41adc",
   "metadata": {},
   "outputs": [
    {
     "data": {
      "application/vnd.jupyter.widget-view+json": {
       "model_id": "de394c176d18427db2023c90261829c1",
       "version_major": 2,
       "version_minor": 0
      },
      "text/plain": [
       "VBox(children=(Dropdown(description='Sync from:', layout=Layout(width='300px'), options=('imviz', 'aladin-a', …"
      ]
     },
     "metadata": {},
     "output_type": "display_data"
    }
   ],
   "source": [
    "ui.display()"
   ]
  },
  {
   "cell_type": "code",
   "execution_count": 12,
   "id": "eb66b601-6179-4b06-853c-a7779663fa03",
   "metadata": {},
   "outputs": [],
   "source": []
  },
  {
   "cell_type": "code",
   "execution_count": null,
   "id": "87d9a63b-b41b-43be-a82e-ba0b46aa56a9",
   "metadata": {},
   "outputs": [],
   "source": []
  }
 ],
 "metadata": {
  "kernelspec": {
   "display_name": "Python 3 (ipykernel)",
   "language": "python",
   "name": "python3"
  },
  "language_info": {
   "codemirror_mode": {
    "name": "ipython",
    "version": 3
   },
   "file_extension": ".py",
   "mimetype": "text/x-python",
   "name": "python",
   "nbconvert_exporter": "python",
   "pygments_lexer": "ipython3",
   "version": "3.12.2"
  }
 },
 "nbformat": 4,
 "nbformat_minor": 5
}
